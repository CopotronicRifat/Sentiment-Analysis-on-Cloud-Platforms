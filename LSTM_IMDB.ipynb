{
  "nbformat": 4,
  "nbformat_minor": 0,
  "metadata": {
    "colab": {
      "provenance": []
    },
    "kernelspec": {
      "name": "python3",
      "display_name": "Python 3"
    },
    "language_info": {
      "name": "python"
    }
  },
  "cells": [
    {
      "cell_type": "code",
      "source": [
        "import numpy as np\n",
        "import nltk\n",
        "from nltk.corpus import stopwords\n",
        "from nltk.tokenize import word_tokenize\n",
        "import random\n",
        "from sklearn.model_selection import train_test_split\n",
        "from sklearn.metrics import accuracy_score\n",
        "from sklearn.naive_bayes import MultinomialNB\n",
        "import tensorflow as tf\n",
        "from tensorflow.keras.preprocessing.text import Tokenizer\n",
        "from tensorflow.keras.preprocessing.sequence import pad_sequences\n",
        "from tensorflow.keras.models import Sequential\n",
        "from tensorflow.keras.layers import Embedding, LSTM, Dense"
      ],
      "metadata": {
        "id": "u7L9gtAH0bls"
      },
      "execution_count": null,
      "outputs": []
    },
    {
      "cell_type": "code",
      "source": [
        "nltk.download('punkt')"
      ],
      "metadata": {
        "colab": {
          "base_uri": "https://localhost:8080/"
        },
        "id": "TGOAite30fG7",
        "outputId": "4c636b8f-49d0-4b7f-da50-11937920c03e"
      },
      "execution_count": null,
      "outputs": [
        {
          "output_type": "stream",
          "name": "stderr",
          "text": [
            "[nltk_data] Downloading package punkt to /root/nltk_data...\n",
            "[nltk_data]   Unzipping tokenizers/punkt.zip.\n"
          ]
        },
        {
          "output_type": "execute_result",
          "data": {
            "text/plain": [
              "True"
            ]
          },
          "metadata": {},
          "execution_count": 2
        }
      ]
    },
    {
      "cell_type": "code",
      "source": [
        "nltk.download('movie_reviews')\n",
        "nltk.download('stopwords')"
      ],
      "metadata": {
        "colab": {
          "base_uri": "https://localhost:8080/"
        },
        "id": "ToRYek2c0dBW",
        "outputId": "1e65e57f-9e21-4e83-c3b6-ae6d593718dd"
      },
      "execution_count": null,
      "outputs": [
        {
          "output_type": "stream",
          "name": "stderr",
          "text": [
            "[nltk_data] Downloading package movie_reviews to /root/nltk_data...\n",
            "[nltk_data]   Unzipping corpora/movie_reviews.zip.\n",
            "[nltk_data] Downloading package stopwords to /root/nltk_data...\n",
            "[nltk_data]   Unzipping corpora/stopwords.zip.\n"
          ]
        },
        {
          "output_type": "execute_result",
          "data": {
            "text/plain": [
              "True"
            ]
          },
          "metadata": {},
          "execution_count": 3
        }
      ]
    },
    {
      "cell_type": "code",
      "execution_count": null,
      "metadata": {
        "colab": {
          "base_uri": "https://localhost:8080/"
        },
        "id": "inqCpVvtz9uY",
        "outputId": "d364ecd5-cd1d-46d5-b741-e7c1183215be"
      },
      "outputs": [
        {
          "output_type": "stream",
          "name": "stdout",
          "text": [
            "Epoch 1/5\n",
            "50/50 [==============================] - 27s 465ms/step - loss: 0.6932 - accuracy: 0.5025 - val_loss: 0.6888 - val_accuracy: 0.5725\n",
            "Epoch 2/5\n",
            "50/50 [==============================] - 22s 440ms/step - loss: 0.5646 - accuracy: 0.7531 - val_loss: 0.7992 - val_accuracy: 0.5950\n",
            "Epoch 3/5\n",
            "50/50 [==============================] - 22s 442ms/step - loss: 0.1398 - accuracy: 0.9513 - val_loss: 0.8144 - val_accuracy: 0.6125\n",
            "Epoch 4/5\n",
            "50/50 [==============================] - 25s 494ms/step - loss: 0.0258 - accuracy: 0.9950 - val_loss: 1.3405 - val_accuracy: 0.6175\n",
            "Epoch 5/5\n",
            "50/50 [==============================] - 24s 478ms/step - loss: 0.0159 - accuracy: 0.9962 - val_loss: 1.1050 - val_accuracy: 0.6500\n",
            "1/1 [==============================] - 1s 984ms/step\n",
            "Prediction:  negative\n"
          ]
        }
      ],
      "source": [
        "def load_imdb_dataset():\n",
        "    positive_reviews = nltk.corpus.movie_reviews.fileids('pos')\n",
        "    positive_reviews = [nltk.corpus.movie_reviews.raw(fileid) for fileid in positive_reviews]\n",
        "    negative_reviews = nltk.corpus.movie_reviews.fileids('neg')\n",
        "    negative_reviews = [nltk.corpus.movie_reviews.raw(fileid) for fileid in negative_reviews]\n",
        "    dataset = [(review, 'positive') for review in positive_reviews] + [(review, 'negative') for review in negative_reviews]\n",
        "    return dataset\n",
        "\n",
        "def preprocess_text(text):\n",
        "    tokens = word_tokenize(text.lower())\n",
        "    stop_words = set(stopwords.words('english'))\n",
        "    tokens = [token for token in tokens if token.isalpha() and token not in stop_words]\n",
        "    return tokens\n",
        "\n",
        "# Load and preprocess the dataset\n",
        "dataset = load_imdb_dataset()\n",
        "texts, labels = zip(*dataset)\n",
        "texts = [' '.join(preprocess_text(text)) for text in texts]\n",
        "\n",
        "# Tokenize and pad the sequences\n",
        "max_length = 100\n",
        "vocab_size = 10000\n",
        "tokenizer = Tokenizer(num_words=vocab_size, oov_token='<OOV>')\n",
        "tokenizer.fit_on_texts(texts)\n",
        "sequences = tokenizer.texts_to_sequences(texts)\n",
        "padded_sequences = pad_sequences(sequences, maxlen=max_length, truncating='post', padding='post')\n",
        "\n",
        "# Encode the labels\n",
        "label_map = {'positive': 1, 'negative': 0}\n",
        "encoded_labels = [label_map[label] for label in labels]\n",
        "\n",
        "# Split the data into training and testing sets\n",
        "X_train, X_test, y_train, y_test = train_test_split(padded_sequences, encoded_labels, test_size=0.2, random_state=42)\n",
        "\n",
        "# Create the LSTM model\n",
        "model = Sequential([\n",
        "    Embedding(vocab_size, 128, input_length=max_length),\n",
        "    LSTM(128, return_sequences=True),\n",
        "    LSTM(128),\n",
        "    Dense(1, activation='sigmoid')\n",
        "])\n",
        "\n",
        "# Compile and train the model\n",
        "model.compile(loss='binary_crossentropy', optimizer='adam', metrics=['accuracy'])\n",
        "model.fit(X_train, np.array(y_train), validation_data=(X_test, np.array(y_test)), epochs=5, batch_size=32)\n",
        "\n",
        "# Test the model with a sample string\n",
        "test_string = \"The movie was great!\"\n",
        "test_tokens = preprocess_text(test_string)\n",
        "test_sequence = tokenizer.texts_to_sequences([' '.join(test_tokens)])\n",
        "test_padded_sequence = pad_sequences(test_sequence, maxlen=max_length, truncating='post', padding='post')\n",
        "prediction = model.predict(test_padded_sequence)\n",
        "print(\"Prediction: \", \"positive\" if prediction > 0.5 else \"negative\")\n"
      ]
    }
  ]
}