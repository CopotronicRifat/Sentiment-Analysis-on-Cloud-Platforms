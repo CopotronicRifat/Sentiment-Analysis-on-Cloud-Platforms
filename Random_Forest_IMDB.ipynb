{
  "nbformat": 4,
  "nbformat_minor": 0,
  "metadata": {
    "colab": {
      "provenance": []
    },
    "kernelspec": {
      "name": "python3",
      "display_name": "Python 3"
    },
    "language_info": {
      "name": "python"
    }
  },
  "cells": [
    {
      "cell_type": "code",
      "source": [
        "import numpy as np\n",
        "\n",
        "import nltk\n",
        "from nltk.corpus import stopwords\n",
        "from nltk.tokenize import word_tokenize\n",
        "import random\n",
        "from sklearn.model_selection import train_test_split\n",
        "from sklearn.metrics import accuracy_score\n",
        "from sklearn.naive_bayes import MultinomialNB\n",
        "\n",
        "nltk.download('movie_reviews')\n",
        "\n",
        "def load_imdb_dataset():\n",
        "    positive_reviews = nltk.corpus.movie_reviews.fileids('pos')\n",
        "    positive_reviews = [nltk.corpus.movie_reviews.raw(fileid) for fileid in positive_reviews]\n",
        "    negative_reviews = nltk.corpus.movie_reviews.fileids('neg')\n",
        "    negative_reviews = [nltk.corpus.movie_reviews.raw(fileid) for fileid in negative_reviews]\n",
        "    dataset = [(review, 'positive') for review in positive_reviews] + [(review, 'negative') for review in negative_reviews]\n",
        "    return dataset\n",
        "\n",
        "def preprocess_text(text):\n",
        "    tokens = word_tokenize(text.lower())\n",
        "    stop_words = set(stopwords.words('english'))\n",
        "    tokens = [token for token in tokens if token.isalpha() and token not in stop_words]\n",
        "    return tokens"
      ],
      "metadata": {
        "colab": {
          "base_uri": "https://localhost:8080/"
        },
        "id": "9QQ6fMN7sa5w",
        "outputId": "4f5d7c16-00bd-4e58-b187-dd02610aff8f"
      },
      "execution_count": null,
      "outputs": [
        {
          "output_type": "stream",
          "name": "stderr",
          "text": [
            "[nltk_data] Downloading package movie_reviews to /root/nltk_data...\n",
            "[nltk_data]   Package movie_reviews is already up-to-date!\n"
          ]
        }
      ]
    },
    {
      "cell_type": "code",
      "source": [
        "from sklearn.feature_extraction.text import CountVectorizer\n",
        "from sklearn.ensemble import RandomForestClassifier\n",
        "\n",
        "def create_feature_vectors(dataset):\n",
        "    texts, labels = zip(*dataset)\n",
        "    vectorizer = CountVectorizer(tokenizer=preprocess_text, max_features=3000)\n",
        "    feature_vectors = vectorizer.fit_transform(texts)\n",
        "    return feature_vectors, labels, vectorizer\n",
        "\n",
        "def train_and_evaluate_model(X, y):\n",
        "    X_train, X_test, y_train, y_test = train_test_split(X, y, test_size=0.2, random_state=42)\n",
        "    clf = RandomForestClassifier(n_estimators=100, random_state=42)\n",
        "    clf.fit(X_train, y_train)\n",
        "    y_pred = clf.predict(X_test)\n",
        "    accuracy = accuracy_score(y_test, y_pred)\n",
        "    return clf, vectorizer, accuracy\n",
        "\n",
        "def predict_sentiment(text, clf, vectorizer):\n",
        "    text_features = vectorizer.transform([text])\n",
        "    sentiment = clf.predict(text_features)\n",
        "    return sentiment[0]\n",
        "\n",
        "dataset = load_imdb_dataset()\n",
        "X, y, vectorizer = create_feature_vectors(dataset)\n",
        "clf, vectorizer, accuracy = train_and_evaluate_model(X, y)\n",
        "print(f\"Accuracy: {accuracy:.2f}\")\n",
        "\n",
        "# Test string\n",
        "test_string = \"Bad movie\"\n",
        "predicted_sentiment = predict_sentiment(test_string, clf, vectorizer)\n",
        "print(f\"Sentiment: {predicted_sentiment}\")\n"
      ],
      "metadata": {
        "colab": {
          "base_uri": "https://localhost:8080/"
        },
        "id": "3BnpSemyrBu7",
        "outputId": "458bcb61-94bc-4231-aa15-899882be11ae"
      },
      "execution_count": null,
      "outputs": [
        {
          "output_type": "stream",
          "name": "stderr",
          "text": [
            "/usr/local/lib/python3.10/dist-packages/sklearn/feature_extraction/text.py:528: UserWarning: The parameter 'token_pattern' will not be used since 'tokenizer' is not None'\n",
            "  warnings.warn(\n"
          ]
        },
        {
          "output_type": "stream",
          "name": "stdout",
          "text": [
            "Accuracy: 0.81\n",
            "Sentiment: negative\n"
          ]
        }
      ]
    },
    {
      "cell_type": "code",
      "source": [],
      "metadata": {
        "id": "m1vaFb9nsMDn"
      },
      "execution_count": null,
      "outputs": []
    }
  ]
}