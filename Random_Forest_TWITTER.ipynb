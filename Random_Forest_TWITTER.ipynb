{
  "nbformat": 4,
  "nbformat_minor": 0,
  "metadata": {
    "colab": {
      "provenance": []
    },
    "kernelspec": {
      "name": "python3",
      "display_name": "Python 3"
    },
    "language_info": {
      "name": "python"
    }
  },
  "cells": [
    {
      "cell_type": "code",
      "source": [
        "import nltk\n",
        "import random\n",
        "from nltk.corpus import twitter_samples\n",
        "from nltk.tokenize import word_tokenize\n",
        "from nltk.corpus import stopwords\n",
        "from nltk.stem import PorterStemmer\n",
        "from nltk.classify.util import accuracy as nltk_accuracy\n",
        "\n",
        "# Download the NLTK data\n",
        "nltk.download('twitter_samples')\n",
        "nltk.download('stopwords')\n",
        "nltk.download('punkt')\n",
        "positive_tweets = twitter_samples.strings('positive_tweets.json')\n",
        "negative_tweets = twitter_samples.strings('negative_tweets.json')\n",
        "\n",
        "import re\n",
        "import string\n",
        "stopwords_english = stopwords.words('english')\n",
        "stemmer = PorterStemmer()\n",
        "\n",
        "def preprocess(tweet):\n",
        "    # Remove stock market tickers like $GE\n",
        "    tweet = re.sub(r'\\$\\w+', '', tweet)\n",
        "\n",
        "    # Remove old style retweet text \"RT\"\n",
        "    tweet = re.sub(r'^RT[\\s]+', '', tweet)\n",
        "\n",
        "    # Remove hyperlinks\n",
        "    tweet = re.sub(r'https?:\\/\\/.*[\\r\\n]*', '', tweet)\n",
        "\n",
        "    # Remove hashtags (only removing the hash # sign from the word)\n",
        "    tweet = re.sub(r'#', '', tweet)\n",
        "\n",
        "    # Tokenize the tweet\n",
        "    tweet_tokens = word_tokenize(tweet)\n",
        "\n",
        "    # Remove stopwords and stemming\n",
        "    tweets_clean = []\n",
        "    for word in tweet_tokens:\n",
        "        if (word not in stopwords_english and word not in string.punctuation):\n",
        "            stem_word = stemmer.stem(word)\n",
        "            tweets_clean.append(stem_word)\n",
        "\n",
        "    return tweets_clean\n",
        "\n",
        "# Preprocess the positive and negative tweets\n",
        "positive_tweets_clean = []\n",
        "negative_tweets_clean = []\n",
        "\n",
        "for tweet in positive_tweets:\n",
        "    positive_tweets_clean.append(preprocess(tweet))\n",
        "\n",
        "for tweet in negative_tweets:\n",
        "    negative_tweets_clean.append(preprocess(tweet))\n",
        "\n",
        "def get_tweets_for_model(cleaned_tweets):\n",
        "    for tweet_tokens in cleaned_tweets:\n",
        "        yield dict([token, True] for token in tweet_tokens)\n",
        "\n",
        "positive_tweets_model = get_tweets_for_model(positive_tweets_clean)\n",
        "negative_tweets_model = get_tweets_for_model(negative_tweets_clean)\n",
        "\n",
        "# Split the dataset into train and test sets\n",
        "positive_dataset = [(tweet_dict, 'Positive') for tweet_dict in positive_tweets_model]\n",
        "negative_dataset = [(tweet_dict, 'Negative') for tweet_dict in negative_tweets_model]\n",
        "\n",
        "dataset = positive_dataset + negative_dataset\n",
        "random.shuffle(dataset)\n",
        "train_data = dataset[:7000]\n",
        "test_data = dataset[7000:]"
      ],
      "metadata": {
        "colab": {
          "base_uri": "https://localhost:8080/"
        },
        "id": "obtYIvUq-qpZ",
        "outputId": "cd36b6fd-354b-4c67-af02-807c873be65e"
      },
      "execution_count": null,
      "outputs": [
        {
          "output_type": "stream",
          "name": "stderr",
          "text": [
            "[nltk_data] Downloading package twitter_samples to /root/nltk_data...\n",
            "[nltk_data]   Unzipping corpora/twitter_samples.zip.\n",
            "[nltk_data] Downloading package stopwords to /root/nltk_data...\n",
            "[nltk_data]   Unzipping corpora/stopwords.zip.\n",
            "[nltk_data] Downloading package punkt to /root/nltk_data...\n",
            "[nltk_data]   Unzipping tokenizers/punkt.zip.\n"
          ]
        }
      ]
    },
    {
      "cell_type": "code",
      "execution_count": null,
      "metadata": {
        "colab": {
          "base_uri": "https://localhost:8080/"
        },
        "id": "Rn2isCPP-iIE",
        "outputId": "e2fe046b-bb08-4920-cb59-ef3fe5cedaf1"
      },
      "outputs": [
        {
          "output_type": "stream",
          "name": "stdout",
          "text": [
            "Accuracy: 0.7346666666666667\n",
            "Test string result: Positive\n"
          ]
        }
      ],
      "source": [
        "import numpy as np\n",
        "from sklearn.feature_extraction.text import CountVectorizer\n",
        "from sklearn.ensemble import RandomForestClassifier\n",
        "from sklearn.metrics import accuracy_score\n",
        "\n",
        "def tokens_to_string(tweet_tokens):\n",
        "    return ' '.join(tweet_tokens)\n",
        "\n",
        "train_data_str = [tokens_to_string(tweet_dict) for (tweet_dict, _) in train_data]\n",
        "test_data_str = [tokens_to_string(tweet_dict) for (tweet_dict, _) in test_data]\n",
        "\n",
        "train_labels = [label for (_, label) in train_data]\n",
        "test_labels = [label for (_, label) in test_data]\n",
        "\n",
        "# Convert tokenized tweets to strings\n",
        "train_data_strings = [' '.join(tokens) for tokens in positive_tweets_clean + negative_tweets_clean]\n",
        "\n",
        "# Vectorize the tweets using the CountVectorizer\n",
        "vectorizer = CountVectorizer(max_features=5000, min_df=5, max_df=0.7)\n",
        "X_train = vectorizer.fit_transform(train_data_str).toarray()\n",
        "X_test = vectorizer.transform(test_data_str).toarray()\n",
        "\n",
        "# Train the RandomForestClassifier\n",
        "classifier = RandomForestClassifier(n_estimators=100, random_state=0)\n",
        "classifier.fit(X_train, train_labels)\n",
        "\n",
        "# Predict the labels for the test set\n",
        "predictions = classifier.predict(X_test)\n",
        "\n",
        "# Calculate the accuracy\n",
        "accuracy = accuracy_score(test_labels, predictions)\n",
        "print(\"Accuracy:\", accuracy)\n",
        "\n",
        "# Test the classifier with a test string\n",
        "test_string = \"I love this place, it's amazing!\"\n",
        "test_string_clean = preprocess(test_string)\n",
        "test_string_vector = vectorizer.transform([' '.join(test_string_clean)]).toarray()\n",
        "result = classifier.predict(test_string_vector)\n",
        "print(\"Test string result:\", result[0])\n"
      ]
    }
  ]
}