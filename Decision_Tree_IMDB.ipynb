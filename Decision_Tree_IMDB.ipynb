{
  "nbformat": 4,
  "nbformat_minor": 0,
  "metadata": {
    "colab": {
      "provenance": []
    },
    "kernelspec": {
      "name": "python3",
      "display_name": "Python 3"
    },
    "language_info": {
      "name": "python"
    }
  },
  "cells": [
    {
      "cell_type": "code",
      "execution_count": null,
      "metadata": {
        "id": "fd8BVp7uuV-V"
      },
      "outputs": [],
      "source": [
        "import numpy as np\n",
        "import nltk\n",
        "from nltk.corpus import stopwords\n",
        "from nltk.tokenize import word_tokenize\n",
        "import random\n",
        "from sklearn.model_selection import train_test_split\n",
        "from sklearn.metrics import accuracy_score\n",
        "from sklearn.tree import DecisionTreeClassifier\n",
        "from sklearn.feature_extraction.text import CountVectorizer\n",
        "\n",
        "\n"
      ]
    },
    {
      "cell_type": "code",
      "source": [
        "nltk.download('punkt')"
      ],
      "metadata": {
        "colab": {
          "base_uri": "https://localhost:8080/"
        },
        "id": "5t6BIhqquwK4",
        "outputId": "4a9ba3c0-45f3-4cc7-bd25-ffee9d1c38bb"
      },
      "execution_count": null,
      "outputs": [
        {
          "output_type": "stream",
          "name": "stderr",
          "text": [
            "[nltk_data] Downloading package punkt to /root/nltk_data...\n",
            "[nltk_data]   Unzipping tokenizers/punkt.zip.\n"
          ]
        },
        {
          "output_type": "execute_result",
          "data": {
            "text/plain": [
              "True"
            ]
          },
          "metadata": {},
          "execution_count": 3
        }
      ]
    },
    {
      "cell_type": "code",
      "source": [
        "nltk.download('movie_reviews')\n",
        "nltk.download('stopwords')\n",
        "\n",
        "def load_imdb_dataset():\n",
        "    positive_reviews = nltk.corpus.movie_reviews.fileids('pos')\n",
        "    positive_reviews = [nltk.corpus.movie_reviews.raw(fileid) for fileid in positive_reviews]\n",
        "    negative_reviews = nltk.corpus.movie_reviews.fileids('neg')\n",
        "    negative_reviews = [nltk.corpus.movie_reviews.raw(fileid) for fileid in negative_reviews]\n",
        "    dataset = [(review, 'positive') for review in positive_reviews] + [(review, 'negative') for review in negative_reviews]\n",
        "    return dataset\n",
        "\n",
        "def preprocess_text(text):\n",
        "    tokens = word_tokenize(text.lower())\n",
        "    stop_words = set(stopwords.words('english'))\n",
        "    tokens = [token for token in tokens if token.isalpha() and token not in stop_words]\n",
        "    return tokens\n",
        "\n",
        "def train_decision_tree(X_train, y_train):\n",
        "    vectorizer = CountVectorizer(tokenizer=preprocess_text)\n",
        "    X_train_vectorized = vectorizer.fit_transform(X_train)\n",
        "    clf = DecisionTreeClassifier()\n",
        "    clf.fit(X_train_vectorized, y_train)\n",
        "    return clf, vectorizer\n",
        "\n",
        "def test_decision_tree(clf, vectorizer, X_test, y_test):\n",
        "    X_test_vectorized = vectorizer.transform(X_test)\n",
        "    y_pred = clf.predict(X_test_vectorized)\n",
        "    accuracy = accuracy_score(y_test, y_pred)\n",
        "    return accuracy\n",
        "\n",
        "dataset = load_imdb_dataset()\n",
        "random.shuffle(dataset)\n",
        "reviews, labels = zip(*dataset)\n",
        "X_train, X_test, y_train, y_test = train_test_split(reviews, labels, test_size=0.2, random_state=42)\n",
        "\n",
        "clf, vectorizer = train_decision_tree(X_train, y_train)\n",
        "accuracy = test_decision_tree(clf, vectorizer, X_test, y_test)\n",
        "print(f\"Decision Tree Classifier Accuracy: {accuracy:.2f}\")\n",
        "\n",
        "test_string = \"I absolutely loved this movie! The acting was brilliant, and the story kept me on the edge of my seat.\"\n",
        "test_string_vectorized = vectorizer.transform([test_string])\n",
        "prediction = clf.predict(test_string_vectorized)\n",
        "print(f\"Test String Prediction: {prediction[0]}\")"
      ],
      "metadata": {
        "colab": {
          "base_uri": "https://localhost:8080/"
        },
        "id": "_ltOrrO4uXn3",
        "outputId": "d36bcd1f-1d2c-493e-b50c-3c36a007718c"
      },
      "execution_count": null,
      "outputs": [
        {
          "output_type": "stream",
          "name": "stderr",
          "text": [
            "[nltk_data] Downloading package movie_reviews to /root/nltk_data...\n",
            "[nltk_data]   Package movie_reviews is already up-to-date!\n",
            "[nltk_data] Downloading package stopwords to /root/nltk_data...\n",
            "[nltk_data]   Package stopwords is already up-to-date!\n",
            "/usr/local/lib/python3.10/dist-packages/sklearn/feature_extraction/text.py:528: UserWarning: The parameter 'token_pattern' will not be used since 'tokenizer' is not None'\n",
            "  warnings.warn(\n"
          ]
        },
        {
          "output_type": "stream",
          "name": "stdout",
          "text": [
            "Decision Tree Classifier Accuracy: 0.61\n",
            "Test String Prediction: positive\n"
          ]
        }
      ]
    }
  ]
}