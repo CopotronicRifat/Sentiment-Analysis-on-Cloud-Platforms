{
  "nbformat": 4,
  "nbformat_minor": 0,
  "metadata": {
    "colab": {
      "provenance": []
    },
    "kernelspec": {
      "name": "python3",
      "display_name": "Python 3"
    },
    "language_info": {
      "name": "python"
    }
  },
  "cells": [
    {
      "cell_type": "code",
      "execution_count": null,
      "metadata": {
        "colab": {
          "base_uri": "https://localhost:8080/"
        },
        "id": "ldm6tWPWDNgv",
        "outputId": "d82abb3c-6c71-4cbd-d4f5-6d1cd146e17a"
      },
      "outputs": [
        {
          "output_type": "stream",
          "name": "stderr",
          "text": [
            "[nltk_data] Downloading package twitter_samples to /root/nltk_data...\n",
            "[nltk_data]   Unzipping corpora/twitter_samples.zip.\n",
            "[nltk_data] Downloading package stopwords to /root/nltk_data...\n",
            "[nltk_data]   Unzipping corpora/stopwords.zip.\n",
            "[nltk_data] Downloading package punkt to /root/nltk_data...\n",
            "[nltk_data]   Unzipping tokenizers/punkt.zip.\n"
          ]
        }
      ],
      "source": [
        "import nltk\n",
        "import random\n",
        "from nltk.corpus import twitter_samples\n",
        "from nltk.tokenize import word_tokenize\n",
        "from nltk.corpus import stopwords\n",
        "from nltk.stem import PorterStemmer\n",
        "from nltk.classify.util import accuracy as nltk_accuracy\n",
        "\n",
        "# Download the NLTK data\n",
        "nltk.download('twitter_samples')\n",
        "nltk.download('stopwords')\n",
        "nltk.download('punkt')\n",
        "positive_tweets = twitter_samples.strings('positive_tweets.json')\n",
        "negative_tweets = twitter_samples.strings('negative_tweets.json')\n",
        "\n",
        "import re\n",
        "import string\n",
        "stopwords_english = stopwords.words('english')\n",
        "stemmer = PorterStemmer()\n",
        "\n",
        "def preprocess(tweet):\n",
        "    # Remove stock market tickers like $GE\n",
        "    tweet = re.sub(r'\\$\\w+', '', tweet)\n",
        "\n",
        "    # Remove old style retweet text \"RT\"\n",
        "    tweet = re.sub(r'^RT[\\s]+', '', tweet)\n",
        "\n",
        "    # Remove hyperlinks\n",
        "    tweet = re.sub(r'https?:\\/\\/.*[\\r\\n]*', '', tweet)\n",
        "\n",
        "    # Remove hashtags (only removing the hash # sign from the word)\n",
        "    tweet = re.sub(r'#', '', tweet)\n",
        "\n",
        "    # Tokenize the tweet\n",
        "    tweet_tokens = word_tokenize(tweet)\n",
        "\n",
        "    # Remove stopwords and stemming\n",
        "    tweets_clean = []\n",
        "    for word in tweet_tokens:\n",
        "        if (word not in stopwords_english and word not in string.punctuation):\n",
        "            stem_word = stemmer.stem(word)\n",
        "            tweets_clean.append(stem_word)\n",
        "\n",
        "    return tweets_clean\n",
        "\n",
        "# Preprocess the positive and negative tweets\n",
        "positive_tweets_clean = []\n",
        "negative_tweets_clean = []\n",
        "\n",
        "for tweet in positive_tweets:\n",
        "    positive_tweets_clean.append(preprocess(tweet))\n",
        "\n",
        "for tweet in negative_tweets:\n",
        "    negative_tweets_clean.append(preprocess(tweet))\n",
        "\n",
        "def get_tweets_for_model(cleaned_tweets):\n",
        "    for tweet_tokens in cleaned_tweets:\n",
        "        yield dict([token, True] for token in tweet_tokens)\n",
        "\n",
        "positive_tweets_model = get_tweets_for_model(positive_tweets_clean)\n",
        "negative_tweets_model = get_tweets_for_model(negative_tweets_clean)\n",
        "\n",
        "# Split the dataset into train and test sets\n",
        "positive_dataset = [(tweet_dict, 'Positive') for tweet_dict in positive_tweets_model]\n",
        "negative_dataset = [(tweet_dict, 'Negative') for tweet_dict in negative_tweets_model]\n",
        "\n",
        "dataset = positive_dataset + negative_dataset\n",
        "random.shuffle(dataset)\n",
        "train_data = dataset[:7000]\n",
        "test_data = dataset[7000:]"
      ]
    },
    {
      "cell_type": "code",
      "source": [
        "import numpy as np\n",
        "from tensorflow.keras.preprocessing.text import Tokenizer\n",
        "from tensorflow.keras.preprocessing.sequence import pad_sequences\n",
        "from tensorflow.keras.models import Sequential\n",
        "from tensorflow.keras.layers import Embedding, LSTM, Dense, Dropout\n",
        "from tensorflow.keras.optimizers import Adam\n",
        "from tensorflow.keras.callbacks import EarlyStopping\n",
        "\n",
        "# Combine positive and negative cleaned tweets\n",
        "all_cleaned_tweets = positive_tweets_clean + negative_tweets_clean\n",
        "\n",
        "# Create tokenizer\n",
        "tokenizer = Tokenizer()\n",
        "tokenizer.fit_on_texts(all_cleaned_tweets)\n",
        "\n",
        "# Convert tweets to sequences\n",
        "sequences = tokenizer.texts_to_sequences(all_cleaned_tweets)\n",
        "\n",
        "# Pad sequences\n",
        "max_length = max([len(x) for x in sequences])\n",
        "X = pad_sequences(sequences, maxlen=max_length, padding='post')\n",
        "\n",
        "# Prepare labels\n",
        "labels = np.array([1]*len(positive_tweets_clean) + [0]*len(negative_tweets_clean))\n",
        "\n",
        "# Split the dataset into train and test sets\n",
        "train_indices = random.sample(range(len(X)), 7000)\n",
        "test_indices = [i for i in range(len(X)) if i not in train_indices]\n",
        "\n",
        "X_train, X_test = X[train_indices], X[test_indices]\n",
        "y_train, y_test = labels[train_indices], labels[test_indices]\n"
      ],
      "metadata": {
        "id": "NKz6W8f3DPly"
      },
      "execution_count": null,
      "outputs": []
    },
    {
      "cell_type": "code",
      "source": [
        "# Create the LSTM model\n",
        "vocab_size = len(tokenizer.word_index) + 1\n",
        "embedding_dim = 100\n",
        "lstm_units = 128\n",
        "\n",
        "model = Sequential()\n",
        "model.add(Embedding(vocab_size, embedding_dim, input_length=max_length))\n",
        "model.add(LSTM(lstm_units))\n",
        "model.add(Dense(1, activation='sigmoid'))\n",
        "\n",
        "# Compile the model\n",
        "model.compile(loss='binary_crossentropy', optimizer=Adam(learning_rate=0.001), metrics=['accuracy'])\n",
        "\n",
        "# Train the model\n",
        "callbacks = [EarlyStopping(monitor='val_loss', patience=3)]\n",
        "history = model.fit(X_train, y_train, epochs=20, batch_size=64, validation_split=0.1, callbacks=callbacks)\n",
        "\n",
        "# Evaluate the model\n",
        "loss, accuracy = model.evaluate(X_test, y_test)\n",
        "print(f\"Test accuracy: {accuracy:.2f}\")\n"
      ],
      "metadata": {
        "colab": {
          "base_uri": "https://localhost:8080/"
        },
        "id": "0s1xR_ueD6KG",
        "outputId": "9320abc1-46e4-4766-8d5e-78051b410371"
      },
      "execution_count": null,
      "outputs": [
        {
          "output_type": "stream",
          "name": "stdout",
          "text": [
            "Epoch 1/20\n",
            "99/99 [==============================] - 14s 117ms/step - loss: 0.6333 - accuracy: 0.6040 - val_loss: 0.5227 - val_accuracy: 0.7171\n",
            "Epoch 2/20\n",
            "99/99 [==============================] - 12s 119ms/step - loss: 0.3840 - accuracy: 0.8341 - val_loss: 0.5280 - val_accuracy: 0.7714\n",
            "Epoch 3/20\n",
            "99/99 [==============================] - 13s 132ms/step - loss: 0.1921 - accuracy: 0.9324 - val_loss: 0.8301 - val_accuracy: 0.7571\n",
            "Epoch 4/20\n",
            "99/99 [==============================] - 13s 131ms/step - loss: 0.1098 - accuracy: 0.9654 - val_loss: 0.7154 - val_accuracy: 0.7429\n",
            "94/94 [==============================] - 3s 29ms/step - loss: 0.7301 - accuracy: 0.7563\n",
            "Test accuracy: 0.76\n"
          ]
        }
      ]
    },
    {
      "cell_type": "code",
      "source": [
        "def predict_sentiment(text):\n",
        "    cleaned_text = preprocess(text)\n",
        "    sequence = tokenizer.texts_to_sequences([cleaned_text])\n",
        "    padded_sequence = pad_sequences(sequence, maxlen=max_length, padding='post')\n",
        "    prediction = model.predict(padded_sequence)\n",
        "    return \"Positive\" if prediction >= 0.5 else \"Negative\"\n",
        "\n",
        "# Test string\n",
        "test_string = \"I love this new phone!\"\n",
        "sentiment = predict_sentiment(test_string)\n",
        "print(f\"The sentiment of the test string '{test_string}' is {sentiment}.\")\n"
      ],
      "metadata": {
        "colab": {
          "base_uri": "https://localhost:8080/"
        },
        "id": "HE0LcC5wD7lx",
        "outputId": "866128c1-dfca-4f77-89b1-e6832c5005a3"
      },
      "execution_count": null,
      "outputs": [
        {
          "output_type": "stream",
          "name": "stdout",
          "text": [
            "1/1 [==============================] - 0s 483ms/step\n",
            "The sentiment of the test string 'I love this new phone!' is Positive.\n"
          ]
        }
      ]
    }
  ]
}